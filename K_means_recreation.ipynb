{
  "nbformat": 4,
  "nbformat_minor": 0,
  "metadata": {
    "colab": {
      "provenance": [],
      "authorship_tag": "ABX9TyPZ4gCbmzyflrYlBXsGhdfB",
      "include_colab_link": true
    },
    "kernelspec": {
      "name": "python3",
      "display_name": "Python 3"
    },
    "language_info": {
      "name": "python"
    }
  },
  "cells": [
    {
      "cell_type": "markdown",
      "metadata": {
        "id": "view-in-github",
        "colab_type": "text"
      },
      "source": [
        "<a href=\"https://colab.research.google.com/github/PabloNatB/Projects/blob/main/K_means_recreation.ipynb\" target=\"_parent\"><img src=\"https://colab.research.google.com/assets/colab-badge.svg\" alt=\"Open In Colab\"/></a>"
      ]
    },
    {
      "cell_type": "code",
      "execution_count": 1,
      "metadata": {
        "id": "mvgy52S0TGfC"
      },
      "outputs": [],
      "source": [
        "\"\"\"\n",
        "\n",
        "Algortimo de Clustering k-means\n",
        "\n",
        "Fecha de entrega 15 de agosto de 2023\n",
        "\n",
        "\"\"\"\n",
        "\n",
        "import matplotlib.pyplot as plt\n",
        "import random as random\n",
        "import numpy as np\n",
        "from sklearn.datasets import make_blobs\n",
        "import math as mt\n",
        "import copy\n"
      ]
    },
    {
      "cell_type": "code",
      "source": [
        "#definimos la función distancia que recibe 2 vectores 2D y calcula la distancia entre ellos\n",
        "def distance(x1,x2):\n",
        "    dx=x2[0]-x1[0]\n",
        "    dy=x2[1]-x1[1]\n",
        "    return mt.sqrt(dx**2+dy**2)\n",
        ""
      ],
      "metadata": {
        "id": "SgRl5STGTPai"
      },
      "execution_count": 2,
      "outputs": []
    },
    {
      "cell_type": "code",
      "source": [
        "#Inicializamos los clusters\n",
        "num_samples=300\n",
        "num_centers=3\n",
        "X,y_true=make_blobs(n_samples=num_samples,centers=num_centers,\n",
        "                    cluster_std=0.90,random_state=3)\n"
      ],
      "metadata": {
        "id": "VwuTzSIoTa8T"
      },
      "execution_count": 3,
      "outputs": []
    },
    {
      "cell_type": "code",
      "source": [
        "#mu_x & mu_y son las coordenadas de los centroides en x,y\n",
        "mu_x=np.zeros(num_centers)\n",
        "mu_y=np.zeros(num_centers)\n",
        "for i in range(num_centers):\n",
        "    n=random.randint(0,num_samples-1)\n",
        "    mu_x[i]=X[n][0]\n",
        "    mu_y[i]=X[n][1]\n",
        "num_iteraciones=0\n"
      ],
      "metadata": {
        "id": "8zGnV6b9TetI"
      },
      "execution_count": 4,
      "outputs": []
    },
    {
      "cell_type": "code",
      "source": [
        "while(True):\n",
        "\n",
        "    #repetiremos hasta que los centroides queden fijos\n",
        "\n",
        "    #Llenamos  la matriz gamma de ceros y después le asignamos la unos\n",
        "    distances=np.zeros(num_centers)\n",
        "    gamma=np.zeros((num_samples, num_centers))\n",
        "    for i in range(num_samples):\n",
        "        for j in range(num_centers):\n",
        "            distances[j]=distance([mu_x[j],mu_y[j]],[X[i,0],X[i,1]])\n",
        "        for j in range(num_centers):\n",
        "            if (distances[j]==distances.min()):\n",
        "                gamma[i][j]=1\n",
        "                break\n",
        "     #hacemos una deep copy de los centroides para después comparar\n",
        "    old_x=copy.deepcopy(mu_x)\n",
        "    old_y=copy.deepcopy(mu_y)\n",
        "    for j in range(num_centers):\n",
        "        nj=0\n",
        "        mux=0\n",
        "        muy=0\n",
        "        for i in range(num_samples):\n",
        "            nj+=gamma[i][j]\n",
        "        for i in range(num_samples):\n",
        "            mux+=gamma[i][j]*X[i,0]\n",
        "            muy+=gamma[i][j]*X[i,1]\n",
        "        mu_x[j]=(1/nj)*mux\n",
        "        mu_y[j]=(1/nj)*muy\n",
        "\n",
        "     #graficamos\n",
        "    plt.figure()\n",
        "    plt.scatter(X[:,0],X[:,1],c='blue',marker='o',s=50)\n",
        "    plt.scatter(mu_x,mu_y,c='black',marker='x',s=50)\n",
        "    plt.grid(color='white', linestyle='-', linewidth=0.05)\n",
        "    plt.title(\"Iteracion \"+str(num_iteraciones+1), fontweight='bold')\n",
        "    #si las distancias son menores a 0.0000001 el algoritmo termina\n",
        "    #ese margen de error fue escogido arbitrariamente\n",
        "    distancias=np.zeros(num_centers)\n",
        "    for i in range(num_centers):\n",
        "        distancias[i]=distance([old_x[i],old_y[i]],[mu_x[i],mu_y[i]])\n",
        "    if(distancias.max()<0.0000001):\n",
        "        break\n",
        "    num_iteraciones+=1\n",
        "    #if(num_iteraciones>30 ):\n",
        "        #break\n",
        "\n",
        "\n",
        "\n"
      ],
      "metadata": {
        "colab": {
          "base_uri": "https://localhost:8080/",
          "height": 452
        },
        "id": "J0S90BEDTg06",
        "outputId": "14bee4ea-78b7-4933-c8aa-efbaca43b753"
      },
      "execution_count": 8,
      "outputs": [
        {
          "output_type": "display_data",
          "data": {
            "text/plain": [
              "<Figure size 640x480 with 1 Axes>"
            ],
            "image/png": "[encoded data removed]"
          },
          "metadata": {}
        }
      ]
    },
    {
      "cell_type": "code",
      "source": [
        "\n",
        "for i in range(num_centers):\n",
        "    print(\"Centroide \",str(i+1),\": [\",mu_x[i],\",\",mu_y[i],\"]\")\n"
      ],
      "metadata": {
        "colab": {
          "base_uri": "https://localhost:8080/"
        },
        "id": "2BTYczHVTkIb",
        "outputId": "1d7cc07e-d73c-403f-81e1-b4e2ad4b8eb6"
      },
      "execution_count": 9,
      "outputs": [
        {
          "output_type": "stream",
          "name": "stdout",
          "text": [
            "Centroide  1 : [ 7.88968566948939 , 7.977212413869051 ]\n",
            "Centroide  2 : [ -4.053298470032886 , 0.19513392581524586 ]\n",
            "Centroide  3 : [ 0.8788857343069926 , 4.171132359394685 ]\n"
          ]
        }
      ]
    }
  ]
}